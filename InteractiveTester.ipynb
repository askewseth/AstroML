{
 "cells": [
  {
   "cell_type": "code",
   "execution_count": 1,
   "metadata": {
    "collapsed": true
   },
   "outputs": [],
   "source": [
    "import os"
   ]
  },
  {
   "cell_type": "code",
   "execution_count": 2,
   "metadata": {
    "collapsed": false
   },
   "outputs": [
    {
     "name": "stdout",
     "output_type": "stream",
     "text": [
      "/home/seth/Desktop/AstroML/Programs/AstroML\n"
     ]
    }
   ],
   "source": [
    "cd ~/Desktop/AstroML/Programs/AstroML/"
   ]
  },
  {
   "cell_type": "code",
   "execution_count": 3,
   "metadata": {
    "collapsed": true
   },
   "outputs": [],
   "source": [
    "%load_ext autoreload\n",
    "%autoreload 2"
   ]
  },
  {
   "cell_type": "code",
   "execution_count": 4,
   "metadata": {
    "collapsed": true
   },
   "outputs": [],
   "source": [
    "import tests\n",
    "from tests import *"
   ]
  },
  {
   "cell_type": "code",
   "execution_count": 5,
   "metadata": {
    "collapsed": false
   },
   "outputs": [],
   "source": [
    "from Spectrum import spectrum"
   ]
  },
  {
   "cell_type": "code",
   "execution_count": 6,
   "metadata": {
    "collapsed": false
   },
   "outputs": [],
   "source": [
    "def catch(func, *args, **kwargs):\n",
    "    try:\n",
    "        return func(*args, **kwargs)\n",
    "    except Exception as e:\n",
    "        print \"EXCEPTION:\"\n",
    "        print '\\t', e\n",
    "        print '\\t', ','.join(args)"
   ]
  },
  {
   "cell_type": "code",
   "execution_count": 144,
   "metadata": {
    "collapsed": false
   },
   "outputs": [
    {
     "name": "stdout",
     "output_type": "stream",
     "text": [
      "Not Found\n",
      "Not Found\n"
     ]
    }
   ],
   "source": [
    "specs = filter(None, [catch(spectrum, x) for x in file_paths])"
   ]
  },
  {
   "cell_type": "code",
   "execution_count": 145,
   "metadata": {
    "collapsed": false
   },
   "outputs": [
    {
     "name": "stdout",
     "output_type": "stream",
     "text": [
      "0.. BeSS  Spectrum:  Phi Per,  Jan-29-2012 \n",
      "1.. BeSS  Spectrum:  Phi Per,  Aug-23-2009 \n",
      "2.. BeSS  Spectrum:  Phi Per,  Aug-23-2009 \n",
      "3.. BeSS  Spectrum:  Phi Per,  Aug-23-2009 \n",
      "4.. BeSS  Spectrum:  Phi Per,  Aug-23-2009 \n",
      "5.. BeSS  Spectrum:  Phi Per,  Jan-29-2012 \n",
      "6.. Local Spectrum:   Psiper,  Jan-16-2014 \n",
      "7.. Local Spectrum:   Psiper,  Jan-15-2014 \n",
      "8.. BeSS  Spectrum:  Phi Per,  Jan-29-2012 \n",
      "9.. BeSS  Spectrum:  Phi Per,  Aug-23-2009 \n",
      "10. BeSS  Spectrum:  Phi Per,  Aug-23-2009 \n",
      "11. BeSS  Spectrum:  Phi Per, Sept-14-2007 \n",
      "12. BeSS  Spectrum:  Phi Per,  Aug-23-2009 \n",
      "13. BeSS  Spectrum:  Phi Per,  Jan-29-2012 \n",
      "14. BeSS  Spectrum:  Phi Per,  Aug-23-2009 \n",
      "15. BeSS  Spectrum:  Phi Per,  Aug-23-2009 \n",
      "16. BeSS  Spectrum:  Phi Per,  Aug-27-2009 \n",
      "17. BeSS  Spectrum:  Phi Per,  Oct-20-2007 \n",
      "18. BeSS  Spectrum:  Phi Per,  Jan-29-2012 \n",
      "19. BeSS  Spectrum:  Phi Per,  Aug-23-2009 \n"
     ]
    }
   ],
   "source": [
    "for i,s in enumerate(specs):\n",
    "    print `i`.ljust(3, '.'), s"
   ]
  },
  {
   "cell_type": "code",
   "execution_count": 69,
   "metadata": {
    "collapsed": false
   },
   "outputs": [],
   "source": [
    "bess =  specs[0]\n",
    "local = specs[6]"
   ]
  },
  {
   "cell_type": "code",
   "execution_count": 11,
   "metadata": {
    "collapsed": false
   },
   "outputs": [
    {
     "data": {
      "text/plain": [
       "'tests/files/PsiPer_20140116nfw.fits'"
      ]
     },
     "execution_count": 11,
     "metadata": {},
     "output_type": "execute_result"
    }
   ],
   "source": [
    "local.path"
   ]
  },
  {
   "cell_type": "code",
   "execution_count": 12,
   "metadata": {
    "collapsed": true
   },
   "outputs": [],
   "source": [
    "%matplotlib inline"
   ]
  },
  {
   "cell_type": "code",
   "execution_count": 13,
   "metadata": {
    "collapsed": false
   },
   "outputs": [],
   "source": [
    "f = open('tests/files/PsiPer_20140116nfw.fits')"
   ]
  },
  {
   "cell_type": "code",
   "execution_count": null,
   "metadata": {
    "collapsed": true
   },
   "outputs": [],
   "source": []
  },
  {
   "cell_type": "code",
   "execution_count": 14,
   "metadata": {
    "collapsed": true
   },
   "outputs": [],
   "source": [
    "import pyfits, math, csv, re"
   ]
  },
  {
   "cell_type": "code",
   "execution_count": 15,
   "metadata": {
    "collapsed": true
   },
   "outputs": [],
   "source": [
    "f = pyfits.open('tests/files/PsiPer_20140114sh_nfw.fits')"
   ]
  },
  {
   "cell_type": "code",
   "execution_count": 16,
   "metadata": {
    "collapsed": false
   },
   "outputs": [],
   "source": [
    "head = f[0].header"
   ]
  },
  {
   "cell_type": "code",
   "execution_count": 17,
   "metadata": {
    "collapsed": false
   },
   "outputs": [],
   "source": [
    "wat2 = [key for key in head.keys() if 'WAT2' in key]\n",
    "\n",
    "spec = [head[w] for w in wat2]\n",
    "\n",
    "specstring = ''.join(spec)\n",
    "specstring = filter(lambda x: x != \"=\", specstring)\n",
    "\n",
    "specend = specstring.split('spec')\n",
    "\n",
    "specend2 = [bit for bit in specend if bit[0].isdigit()]"
   ]
  },
  {
   "cell_type": "code",
   "execution_count": 18,
   "metadata": {
    "collapsed": false
   },
   "outputs": [],
   "source": [
    "specend2= []\n",
    "for x in range(len(specend)):\n",
    "    if specend[x][0] in map(str, range(10)):\n",
    "        specend2.append(specend[x])"
   ]
  },
  {
   "cell_type": "code",
   "execution_count": 23,
   "metadata": {
    "collapsed": false
   },
   "outputs": [],
   "source": [
    "specend2 = [bit for bit in specend if bit[0].isdigit()]"
   ]
  },
  {
   "cell_type": "code",
   "execution_count": 32,
   "metadata": {
    "collapsed": false
   },
   "outputs": [],
   "source": [
    "final = [s.split(' ') for s in specend2]\n",
    "for part in final:\n",
    "    if len(part[4]) > 1:\n",
    "        part.insert(4, 0)"
   ]
  },
  {
   "cell_type": "code",
   "execution_count": 27,
   "metadata": {
    "collapsed": false
   },
   "outputs": [],
   "source": [
    "splits = [s.split(' ') for s in specend2]"
   ]
  },
  {
   "cell_type": "code",
   "execution_count": 21,
   "metadata": {
    "collapsed": false
   },
   "outputs": [],
   "source": [
    "def sixthordercorrection(final):\n",
    "    rel = final[5][5]\n",
    "    assert rel.count('.') > 1, \"6th Order correction called wrong\"\n",
    "    assert rel.count('.') == 2, \"Assumption of max 2 '.'s was wrong\"\n",
    "    second_dot = rel.rfind('.')\n",
    "    tokeep = rel[:pos]\n",
    "    toapp = rel[pos:]\n",
    "    final[5][5] = tokeep\n",
    "    final[5].insert(6, toapp)\n",
    "    return final"
   ]
  },
  {
   "cell_type": "code",
   "execution_count": 157,
   "metadata": {
    "collapsed": false
   },
   "outputs": [],
   "source": [
    "order, wli, step, end = [], [], [], []\n",
    "for o in final:\n",
    "    order.append(int(float(o[0])))\n",
    "    wli.append(float(o[5]))\n",
    "    step.append(float(o[6]))\n",
    "    end.append(float(o[7]))"
   ]
  },
  {
   "cell_type": "markdown",
   "metadata": {
    "collapsed": true
   },
   "source": [
    "order = [int(float(fin[0])) for fin in final]\n",
    "wli = [float(fin[5]) for fin in final]\n",
    "step = [float(fin[6]) for fin in final]\n",
    "end = [float(fin[7]) for fin in final]\n",
    "\n",
    "newLast = (1149 * step[-1]) + wli[-1]"
   ]
  },
  {
   "cell_type": "code",
   "execution_count": null,
   "metadata": {
    "collapsed": true
   },
   "outputs": [],
   "source": []
  },
  {
   "cell_type": "code",
   "execution_count": 37,
   "metadata": {
    "collapsed": true
   },
   "outputs": [],
   "source": [
    "def _getFullWL(self):\n",
    "    larray = []\n",
    "    for y in range(len(self.wlarr[0])):    # extra wl for end\n",
    "        ls = []\n",
    "        for x in range(self.wlarr[3][0]):\n",
    "            ls.append(self.wlarr[1][y] + (x * self.wlarr[2][y]))\n",
    "        larray.append(ls)\n",
    "    # Correction for 6th order issues\n",
    "    return larray"
   ]
  },
  {
   "cell_type": "code",
   "execution_count": 42,
   "metadata": {
    "collapsed": false
   },
   "outputs": [],
   "source": [
    "realwl = local._getFullWL()"
   ]
  },
  {
   "cell_type": "code",
   "execution_count": 44,
   "metadata": {
    "collapsed": false
   },
   "outputs": [],
   "source": [
    "realwlstart = local.wlarr"
   ]
  },
  {
   "cell_type": "code",
   "execution_count": 50,
   "metadata": {
    "collapsed": false
   },
   "outputs": [],
   "source": [
    "startwls = zip(*realwlstart)"
   ]
  },
  {
   "cell_type": "code",
   "execution_count": 52,
   "metadata": {
    "collapsed": false
   },
   "outputs": [
    {
     "data": {
      "text/plain": [
       "[(1, 4245.354609113, 0.11663129202079, 1374),\n",
       " (2, 4328.2062623369, 0.11904883473745137, 1374),\n",
       " (3, 4414.3891232612, 0.12155738091844, 1374)]"
      ]
     },
     "execution_count": 52,
     "metadata": {},
     "output_type": "execute_result"
    }
   ],
   "source": [
    "startwls[:3]"
   ]
  },
  {
   "cell_type": "code",
   "execution_count": 63,
   "metadata": {
    "collapsed": true
   },
   "outputs": [],
   "source": [
    "def getFullWL(wlarr):\n",
    "    wavelengths = zip(*wlarr)\n",
    "    wave_array = []\n",
    "    for order, start, step, end in wavelengths:\n",
    "        #wls = []\n",
    "        #for x in range(end):\n",
    "         #   point = start + (x * step)\n",
    "        wls = [start + (x*step) for x in range(end)]\n",
    "        wave_array.append(wls)\n",
    "    return wave_array"
   ]
  },
  {
   "cell_type": "code",
   "execution_count": 65,
   "metadata": {
    "collapsed": true
   },
   "outputs": [],
   "source": [
    "wlarr = local.wlarr"
   ]
  },
  {
   "cell_type": "code",
   "execution_count": 66,
   "metadata": {
    "collapsed": false
   },
   "outputs": [
    {
     "data": {
      "text/plain": [
       "True"
      ]
     },
     "execution_count": 66,
     "metadata": {},
     "output_type": "execute_result"
    }
   ],
   "source": [
    "getFullWL(wlarr) == realwl"
   ]
  },
  {
   "cell_type": "code",
   "execution_count": 71,
   "metadata": {
    "collapsed": true
   },
   "outputs": [],
   "source": [
    "realha = local._findHA()"
   ]
  },
  {
   "cell_type": "code",
   "execution_count": 92,
   "metadata": {
    "collapsed": false
   },
   "outputs": [],
   "source": [
    "wlarr = local.wlarr\n",
    "last = local.last"
   ]
  },
  {
   "cell_type": "code",
   "execution_count": 130,
   "metadata": {
    "collapsed": true
   },
   "outputs": [],
   "source": [
    "def findHA(wlarr, ha=6562, show=False):\n",
    "    _, initialwl, _, _ = wlarr\n",
    "    initialwl.append(last)\n",
    "    initialwl.append(ha)\n",
    "    initialwl.sort()\n",
    "    order = initialwl.index(ha)\n",
    "    if order is len(initialwl) - 1:\n",
    "        return -1\n",
    "    return order"
   ]
  },
  {
   "cell_type": "code",
   "execution_count": 131,
   "metadata": {
    "collapsed": false
   },
   "outputs": [
    {
     "data": {
      "text/plain": [
       "19"
      ]
     },
     "execution_count": 131,
     "metadata": {},
     "output_type": "execute_result"
    }
   ],
   "source": [
    "findHA(local.wlarr)"
   ]
  },
  {
   "cell_type": "code",
   "execution_count": 132,
   "metadata": {
    "collapsed": false
   },
   "outputs": [
    {
     "data": {
      "text/plain": [
       "19"
      ]
     },
     "execution_count": 132,
     "metadata": {},
     "output_type": "execute_result"
    }
   ],
   "source": [
    "local._findHA()"
   ]
  },
  {
   "cell_type": "code",
   "execution_count": 74,
   "metadata": {
    "collapsed": true
   },
   "outputs": [],
   "source": [
    "initialwl = [wlarr[1][x] for x in range(len(wlarr[1]))]"
   ]
  },
  {
   "cell_type": "code",
   "execution_count": 75,
   "metadata": {
    "collapsed": true
   },
   "outputs": [],
   "source": [
    "initialwl2 = [wlarr[1][x] for x in wlarr[1]]"
   ]
  },
  {
   "cell_type": "code",
   "execution_count": 82,
   "metadata": {
    "collapsed": false
   },
   "outputs": [],
   "source": [
    "zippd = zip(*wlarr)"
   ]
  },
  {
   "cell_type": "code",
   "execution_count": 86,
   "metadata": {
    "collapsed": false
   },
   "outputs": [],
   "source": [
    "a, b, c, d = zip(*zippd)"
   ]
  },
  {
   "cell_type": "code",
   "execution_count": 90,
   "metadata": {
    "collapsed": true
   },
   "outputs": [],
   "source": [
    "_, b, _, _ = wlarr"
   ]
  },
  {
   "cell_type": "code",
   "execution_count": 91,
   "metadata": {
    "collapsed": false
   },
   "outputs": [
    {
     "data": {
      "text/plain": [
       "True"
      ]
     },
     "execution_count": 91,
     "metadata": {},
     "output_type": "execute_result"
    }
   ],
   "source": [
    "b == initialwl"
   ]
  },
  {
   "cell_type": "code",
   "execution_count": 133,
   "metadata": {
    "collapsed": true
   },
   "outputs": [],
   "source": [
    "def _getWLARR(self):\n",
    "    wli = self.head['CRVAL1']\n",
    "    step = self.head['CDELT1']\n",
    "    wls = []\n",
    "    for x in range(len(self.data)):\n",
    "        tmp = wli + (x * step)\n",
    "        wls.append(tmp)\n",
    "    return wls"
   ]
  },
  {
   "cell_type": "code",
   "execution_count": 136,
   "metadata": {
    "collapsed": false
   },
   "outputs": [],
   "source": [
    "head = bess.head\n",
    "data = bess.data"
   ]
  },
  {
   "cell_type": "code",
   "execution_count": 138,
   "metadata": {
    "collapsed": false
   },
   "outputs": [],
   "source": [
    "def getWLARR(head, data):\n",
    "    wli = head['CRVAL1']\n",
    "    step = head['CDELT1']\n",
    "    wls = [wli + (x * step) for x, _ in enumerate(data)]\n",
    "    return wls"
   ]
  },
  {
   "cell_type": "code",
   "execution_count": 139,
   "metadata": {
    "collapsed": true
   },
   "outputs": [],
   "source": [
    "wls = getWLARR(head, data)"
   ]
  },
  {
   "cell_type": "code",
   "execution_count": 143,
   "metadata": {
    "collapsed": false
   },
   "outputs": [
    {
     "data": {
      "text/plain": [
       "True"
      ]
     },
     "execution_count": 143,
     "metadata": {},
     "output_type": "execute_result"
    }
   ],
   "source": [
    "wls == bess.wls"
   ]
  },
  {
   "cell_type": "code",
   "execution_count": 146,
   "metadata": {
    "collapsed": true
   },
   "outputs": [],
   "source": [
    "fname, data, wls = bess.fname, bess.data, bess.wls"
   ]
  },
  {
   "cell_type": "code",
   "execution_count": 152,
   "metadata": {
    "collapsed": true
   },
   "outputs": [],
   "source": [
    "def convertCSV(fname, data, wls):\n",
    "    newname = fname + \".csv\"\n",
    "    data_ = zip(wls, data)\n",
    "    data = data_\n",
    "    filepath_arr = '/home/seth/Desktop/'\n",
    "    os.chdir(filepath_arr)\n",
    "    with open(newname, 'w') as f:\n",
    "        writer = csv.writer(f, delimiter=',')\n",
    "        writer.writerows(data)"
   ]
  },
  {
   "cell_type": "code",
   "execution_count": 153,
   "metadata": {
    "collapsed": true
   },
   "outputs": [],
   "source": [
    "convertCSV(\"testCSV\", data, wls)"
   ]
  },
  {
   "cell_type": "code",
   "execution_count": null,
   "metadata": {
    "collapsed": true
   },
   "outputs": [],
   "source": []
  },
  {
   "cell_type": "code",
   "execution_count": 5,
   "metadata": {
    "collapsed": true
   },
   "outputs": [],
   "source": [
    "import SimbadSearch as ss"
   ]
  },
  {
   "cell_type": "code",
   "execution_count": 6,
   "metadata": {
    "collapsed": false
   },
   "outputs": [
    {
     "data": {
      "text/plain": [
       "['Simbad',\n",
       " '__builtins__',\n",
       " '__doc__',\n",
       " '__file__',\n",
       " '__name__',\n",
       " '__package__',\n",
       " 'get_name',\n",
       " 'os']"
      ]
     },
     "execution_count": 6,
     "metadata": {},
     "output_type": "execute_result"
    }
   ],
   "source": [
    "dir(ss)"
   ]
  },
  {
   "cell_type": "code",
   "execution_count": 8,
   "metadata": {
    "collapsed": false
   },
   "outputs": [
    {
     "data": {
      "text/plain": [
       "'HD 15'"
      ]
     },
     "execution_count": 8,
     "metadata": {},
     "output_type": "execute_result"
    }
   ],
   "source": [
    "ss.get_name(\"hd15\")"
   ]
  },
  {
   "cell_type": "code",
   "execution_count": 9,
   "metadata": {
    "collapsed": true
   },
   "outputs": [],
   "source": [
    "from astroquery.simbad import Simbad"
   ]
  },
  {
   "cell_type": "code",
   "execution_count": null,
   "metadata": {
    "collapsed": true
   },
   "outputs": [],
   "source": [
    "Simbad.query_object()"
   ]
  }
 ],
 "metadata": {
  "kernelspec": {
   "display_name": "Python 2",
   "language": "python",
   "name": "python2"
  },
  "language_info": {
   "codemirror_mode": {
    "name": "ipython",
    "version": 2
   },
   "file_extension": ".py",
   "mimetype": "text/x-python",
   "name": "python",
   "nbconvert_exporter": "python",
   "pygments_lexer": "ipython2",
   "version": "2.7.6"
  }
 },
 "nbformat": 4,
 "nbformat_minor": 0
}
